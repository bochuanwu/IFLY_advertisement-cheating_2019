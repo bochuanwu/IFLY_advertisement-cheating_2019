{
 "cells": [
  {
   "cell_type": "markdown",
   "metadata": {},
   "source": [
    "# 数据预处理\n",
    "\n",
    "将数据放在 `data/raw` 目录下："
   ]
  },
  {
   "cell_type": "code",
   "execution_count": 1,
   "metadata": {},
   "outputs": [],
   "source": [
    "from pathlib import Path\n",
    "import zipfile\n",
    "import pandas as pd\n",
    "import numpy as np"
   ]
  },
  {
   "cell_type": "code",
   "execution_count": 2,
   "metadata": {},
   "outputs": [
    {
     "data": {
      "text/plain": [
       "[WindowsPath('data/raw/city_province.csv'),\n",
       " WindowsPath('data/raw/round1_iflyad_anticheat_testdata_feature.txt'),\n",
       " WindowsPath('data/raw/round1_iflyad_anticheat_traindata.txt')]"
      ]
     },
     "execution_count": 2,
     "metadata": {},
     "output_type": "execute_result"
    }
   ],
   "source": [
    "root = Path('data')\n",
    "[x for x in (root/'raw').iterdir()]"
   ]
  },
  {
   "cell_type": "code",
   "execution_count": 3,
   "metadata": {
    "scrolled": true
   },
   "outputs": [
    {
     "name": "stderr",
     "output_type": "stream",
     "text": [
      "D:\\tool\\lib\\site-packages\\ipykernel_launcher.py:1: FutureWarning: read_table is deprecated, use read_csv instead, passing sep='\\t'.\n",
      "  \"\"\"Entry point for launching an IPython kernel.\n",
      "D:\\tool\\lib\\site-packages\\ipykernel_launcher.py:2: FutureWarning: read_table is deprecated, use read_csv instead, passing sep='\\t'.\n",
      "  \n"
     ]
    }
   ],
   "source": [
    "train = pd.read_table(\"./data/raw/round1_iflyad_anticheat_traindata.txt\")\n",
    "test = pd.read_table(\"./data/raw/round1_iflyad_anticheat_testdata_feature.txt\")"
   ]
  },
  {
   "cell_type": "code",
   "execution_count": 4,
   "metadata": {
    "scrolled": false
   },
   "outputs": [
    {
     "name": "stderr",
     "output_type": "stream",
     "text": [
      "D:\\tool\\lib\\site-packages\\pandas\\core\\frame.py:6692: FutureWarning: Sorting because non-concatenation axis is not aligned. A future version\n",
      "of pandas will change to not sort by default.\n",
      "\n",
      "To accept the future behavior, pass 'sort=False'.\n",
      "\n",
      "To retain the current behavior and silence the warning, pass 'sort=True'.\n",
      "\n",
      "  sort=sort)\n"
     ]
    }
   ],
   "source": [
    "all_data = train.append(test).reset_index(drop=True)"
   ]
  },
  {
   "cell_type": "code",
   "execution_count": 5,
   "metadata": {},
   "outputs": [],
   "source": [
    "province = pd.read_csv(\"./data/raw/city_province.csv\")"
   ]
  },
  {
   "cell_type": "code",
   "execution_count": 6,
   "metadata": {},
   "outputs": [
    {
     "data": {
      "text/html": [
       "<div>\n",
       "<style scoped>\n",
       "    .dataframe tbody tr th:only-of-type {\n",
       "        vertical-align: middle;\n",
       "    }\n",
       "\n",
       "    .dataframe tbody tr th {\n",
       "        vertical-align: top;\n",
       "    }\n",
       "\n",
       "    .dataframe thead th {\n",
       "        text-align: right;\n",
       "    }\n",
       "</style>\n",
       "<table border=\"1\" class=\"dataframe\">\n",
       "  <thead>\n",
       "    <tr style=\"text-align: right;\">\n",
       "      <th></th>\n",
       "      <th>sid</th>\n",
       "      <th>label</th>\n",
       "      <th>pkgname</th>\n",
       "      <th>ver</th>\n",
       "      <th>adunitshowid</th>\n",
       "      <th>mediashowid</th>\n",
       "      <th>apptype</th>\n",
       "      <th>nginxtime</th>\n",
       "      <th>ip</th>\n",
       "      <th>city</th>\n",
       "      <th>...</th>\n",
       "      <th>make</th>\n",
       "      <th>ntt</th>\n",
       "      <th>carrier</th>\n",
       "      <th>os</th>\n",
       "      <th>osv</th>\n",
       "      <th>orientation</th>\n",
       "      <th>lan</th>\n",
       "      <th>h</th>\n",
       "      <th>w</th>\n",
       "      <th>ppi</th>\n",
       "    </tr>\n",
       "  </thead>\n",
       "  <tbody>\n",
       "    <tr>\n",
       "      <th>0</th>\n",
       "      <td>d7460126-e071-4979-9ee8-42f72777a28a-156009070...</td>\n",
       "      <td>1</td>\n",
       "      <td>2d2664e827bcbb8b07100c7fbe072e9b</td>\n",
       "      <td>11.11.0</td>\n",
       "      <td>907d0f8c29663840491577a21c7b612a</td>\n",
       "      <td>ca64a500000d84c8fcb8a0587d0e1e0c</td>\n",
       "      <td>280.0</td>\n",
       "      <td>1.560091e+12</td>\n",
       "      <td>183.197.47.83</td>\n",
       "      <td>石家庄市</td>\n",
       "      <td>...</td>\n",
       "      <td>vivo</td>\n",
       "      <td>2.0</td>\n",
       "      <td>46000.0</td>\n",
       "      <td>Android</td>\n",
       "      <td>8.1.0</td>\n",
       "      <td>0.0</td>\n",
       "      <td>zh-CN</td>\n",
       "      <td>2340.0</td>\n",
       "      <td>1080.0</td>\n",
       "      <td>3.0</td>\n",
       "    </tr>\n",
       "    <tr>\n",
       "      <th>1</th>\n",
       "      <td>b660d559-db97-4b5f-9bd2-2450cb89ce77-156005074...</td>\n",
       "      <td>1</td>\n",
       "      <td>empty</td>\n",
       "      <td>NaN</td>\n",
       "      <td>10199dc8fea2e173525bc3151bd84312</td>\n",
       "      <td>3f2fc57a6e1f9c6fa4464c25cc1e88a3</td>\n",
       "      <td>319.0</td>\n",
       "      <td>1.560051e+12</td>\n",
       "      <td>106.34.14.149</td>\n",
       "      <td>开封市</td>\n",
       "      <td>...</td>\n",
       "      <td>HUAWEI</td>\n",
       "      <td>5.0</td>\n",
       "      <td>0.0</td>\n",
       "      <td>android</td>\n",
       "      <td>Android_9</td>\n",
       "      <td>0.0</td>\n",
       "      <td>NaN</td>\n",
       "      <td>1080.0</td>\n",
       "      <td>2040.0</td>\n",
       "      <td>0.0</td>\n",
       "    </tr>\n",
       "    <tr>\n",
       "      <th>2</th>\n",
       "      <td>f49a740e-66c3-4605-9b67-4d3079fe69cb-156008914...</td>\n",
       "      <td>0</td>\n",
       "      <td>16b81f93f4b1a35cebbf15f07683f171</td>\n",
       "      <td>3.2.1.0524.1958</td>\n",
       "      <td>83f2ecfe65f936f5f2ed59f8e8ff1d01</td>\n",
       "      <td>eea7280e1a2313e4c2e89290b01d196c</td>\n",
       "      <td>273.0</td>\n",
       "      <td>1.560089e+12</td>\n",
       "      <td>223.104.16.151</td>\n",
       "      <td>长春市</td>\n",
       "      <td>...</td>\n",
       "      <td>OPPO</td>\n",
       "      <td>2.0</td>\n",
       "      <td>46000.0</td>\n",
       "      <td>Android</td>\n",
       "      <td>8.1.0</td>\n",
       "      <td>1.0</td>\n",
       "      <td>zh-CN</td>\n",
       "      <td>2196.0</td>\n",
       "      <td>1080.0</td>\n",
       "      <td>0.0</td>\n",
       "    </tr>\n",
       "    <tr>\n",
       "      <th>3</th>\n",
       "      <td>fd60d096-f168-4540-b782-729d64d0fcc6-156006253...</td>\n",
       "      <td>0</td>\n",
       "      <td>empty</td>\n",
       "      <td>4.7.5</td>\n",
       "      <td>9f1eadd9092b19bc86ee0cacde1c867f</td>\n",
       "      <td>eec946a5a66c023ec9d3b2ede5900626</td>\n",
       "      <td>265.0</td>\n",
       "      <td>1.560063e+12</td>\n",
       "      <td>223.104.239.101</td>\n",
       "      <td>曲靖市</td>\n",
       "      <td>...</td>\n",
       "      <td>NaN</td>\n",
       "      <td>6.0</td>\n",
       "      <td>0.0</td>\n",
       "      <td>android</td>\n",
       "      <td>7.0</td>\n",
       "      <td>0.0</td>\n",
       "      <td>NaN</td>\n",
       "      <td>0.0</td>\n",
       "      <td>0.0</td>\n",
       "      <td>0.0</td>\n",
       "    </tr>\n",
       "    <tr>\n",
       "      <th>4</th>\n",
       "      <td>a037b032-a5c7-40ea-9161-26b118b12406-156007938...</td>\n",
       "      <td>1</td>\n",
       "      <td>cf4821986014a7fef9d7b7ad8de655e4</td>\n",
       "      <td>228</td>\n",
       "      <td>2af944462e43cd2f59acbbfd37445413</td>\n",
       "      <td>57b3053174973702549ba88b6017ac30</td>\n",
       "      <td>336.0</td>\n",
       "      <td>1.560079e+12</td>\n",
       "      <td>220.152.155.170</td>\n",
       "      <td>深圳市</td>\n",
       "      <td>...</td>\n",
       "      <td>EML-AL00</td>\n",
       "      <td>2.0</td>\n",
       "      <td>46000.0</td>\n",
       "      <td>Android</td>\n",
       "      <td>9</td>\n",
       "      <td>0.0</td>\n",
       "      <td>Zh-CN</td>\n",
       "      <td>2244.0</td>\n",
       "      <td>1080.0</td>\n",
       "      <td>0.0</td>\n",
       "    </tr>\n",
       "  </tbody>\n",
       "</table>\n",
       "<p>5 rows × 29 columns</p>\n",
       "</div>"
      ],
      "text/plain": [
       "                                                 sid  label  \\\n",
       "0  d7460126-e071-4979-9ee8-42f72777a28a-156009070...      1   \n",
       "1  b660d559-db97-4b5f-9bd2-2450cb89ce77-156005074...      1   \n",
       "2  f49a740e-66c3-4605-9b67-4d3079fe69cb-156008914...      0   \n",
       "3  fd60d096-f168-4540-b782-729d64d0fcc6-156006253...      0   \n",
       "4  a037b032-a5c7-40ea-9161-26b118b12406-156007938...      1   \n",
       "\n",
       "                            pkgname              ver  \\\n",
       "0  2d2664e827bcbb8b07100c7fbe072e9b          11.11.0   \n",
       "1                             empty              NaN   \n",
       "2  16b81f93f4b1a35cebbf15f07683f171  3.2.1.0524.1958   \n",
       "3                             empty            4.7.5   \n",
       "4  cf4821986014a7fef9d7b7ad8de655e4              228   \n",
       "\n",
       "                       adunitshowid                       mediashowid  \\\n",
       "0  907d0f8c29663840491577a21c7b612a  ca64a500000d84c8fcb8a0587d0e1e0c   \n",
       "1  10199dc8fea2e173525bc3151bd84312  3f2fc57a6e1f9c6fa4464c25cc1e88a3   \n",
       "2  83f2ecfe65f936f5f2ed59f8e8ff1d01  eea7280e1a2313e4c2e89290b01d196c   \n",
       "3  9f1eadd9092b19bc86ee0cacde1c867f  eec946a5a66c023ec9d3b2ede5900626   \n",
       "4  2af944462e43cd2f59acbbfd37445413  57b3053174973702549ba88b6017ac30   \n",
       "\n",
       "   apptype     nginxtime               ip  city  ...      make  ntt  carrier  \\\n",
       "0    280.0  1.560091e+12    183.197.47.83  石家庄市  ...      vivo  2.0  46000.0   \n",
       "1    319.0  1.560051e+12    106.34.14.149   开封市  ...    HUAWEI  5.0      0.0   \n",
       "2    273.0  1.560089e+12   223.104.16.151   长春市  ...      OPPO  2.0  46000.0   \n",
       "3    265.0  1.560063e+12  223.104.239.101   曲靖市  ...       NaN  6.0      0.0   \n",
       "4    336.0  1.560079e+12  220.152.155.170   深圳市  ...  EML-AL00  2.0  46000.0   \n",
       "\n",
       "        os        osv orientation    lan       h       w  ppi  \n",
       "0  Android      8.1.0         0.0  zh-CN  2340.0  1080.0  3.0  \n",
       "1  android  Android_9         0.0    NaN  1080.0  2040.0  0.0  \n",
       "2  Android      8.1.0         1.0  zh-CN  2196.0  1080.0  0.0  \n",
       "3  android        7.0         0.0    NaN     0.0     0.0  0.0  \n",
       "4  Android          9         0.0  Zh-CN  2244.0  1080.0  0.0  \n",
       "\n",
       "[5 rows x 29 columns]"
      ]
     },
     "execution_count": 6,
     "metadata": {},
     "output_type": "execute_result"
    }
   ],
   "source": [
    "train.head(5)"
   ]
  },
  {
   "cell_type": "code",
   "execution_count": 7,
   "metadata": {},
   "outputs": [
    {
     "data": {
      "text/plain": [
       "(1000000, 29)"
      ]
     },
     "execution_count": 7,
     "metadata": {},
     "output_type": "execute_result"
    }
   ],
   "source": [
    "train.shape"
   ]
  },
  {
   "cell_type": "code",
   "execution_count": 11,
   "metadata": {
    "scrolled": true
   },
   "outputs": [
    {
     "data": {
      "text/plain": [
       "(1100000, 29)"
      ]
     },
     "execution_count": 11,
     "metadata": {},
     "output_type": "execute_result"
    }
   ],
   "source": [
    "all_data.shape"
   ]
  },
  {
   "cell_type": "code",
   "execution_count": 9,
   "metadata": {
    "scrolled": true
   },
   "outputs": [
    {
     "data": {
      "text/plain": [
       "sid              object\n",
       "label             int64\n",
       "pkgname          object\n",
       "ver              object\n",
       "adunitshowid     object\n",
       "mediashowid      object\n",
       "apptype         float64\n",
       "nginxtime       float64\n",
       "ip               object\n",
       "city             object\n",
       "province        float64\n",
       "reqrealip        object\n",
       "adidmd5          object\n",
       "imeimd5          object\n",
       "idfamd5          object\n",
       "openudidmd5      object\n",
       "macmd5           object\n",
       "dvctype         float64\n",
       "model            object\n",
       "make             object\n",
       "ntt             float64\n",
       "carrier         float64\n",
       "os               object\n",
       "osv              object\n",
       "orientation     float64\n",
       "lan              object\n",
       "h               float64\n",
       "w               float64\n",
       "ppi             float64\n",
       "dtype: object"
      ]
     },
     "execution_count": 9,
     "metadata": {},
     "output_type": "execute_result"
    }
   ],
   "source": [
    "train.dtypes"
   ]
  },
  {
   "cell_type": "code",
   "execution_count": 18,
   "metadata": {},
   "outputs": [
    {
     "data": {
      "text/plain": [
       "<Figure size 800x700 with 1 Axes>"
      ]
     },
     "metadata": {},
     "output_type": "display_data"
    }
   ],
   "source": [
    "#特性研究\n",
    "import seaborn as sns\n",
    "import matplotlib.pyplot as plt\n",
    "sns.set_style(\"white\")\n",
    "sns.set_color_codes(palette='deep')\n",
    "f, ax = plt.subplots(figsize=(8, 7))\n",
    "#Check the new distribution\n",
    "sns.distplot(train['label'], color=\"b\");\n",
    "ax.xaxis.grid(False)\n",
    "ax.set(ylabel=\"Frequency\")\n",
    "ax.set(xlabel=\"label\")\n",
    "ax.set(title=\"label distribution\")\n",
    "sns.despine(trim=True, left=True)\n",
    "plt.show()\n",
    "%matplotlib inline"
   ]
  },
  {
   "cell_type": "code",
   "execution_count": 11,
   "metadata": {
    "scrolled": true
   },
   "outputs": [
    {
     "data": {
      "text/plain": [
       "<matplotlib.axes._subplots.AxesSubplot at 0x1591f442080>"
      ]
     },
     "execution_count": 11,
     "metadata": {},
     "output_type": "execute_result"
    },
    {
     "data": {
      "image/png": "[encoded data removed]",
      "text/plain": [
       "<Figure size 432x432 with 2 Axes>"
      ]
     },
     "metadata": {
      "needs_background": "light"
     },
     "output_type": "display_data"
    }
   ],
   "source": [
    "#相关性\n",
    "\n",
    "corr = train.corr()\n",
    "plt.subplots(figsize=(6,6))\n",
    "sns.heatmap(corr, vmax=0.9, cmap=\"Blues\", square=True)"
   ]
  },
  {
   "cell_type": "code",
   "execution_count": 12,
   "metadata": {
    "scrolled": true
   },
   "outputs": [
    {
     "data": {
      "image/png": "[encoded data removed]",
      "text/plain": [
       "<Figure size 576x432 with 1 Axes>"
      ]
     },
     "metadata": {
      "needs_background": "light"
     },
     "output_type": "display_data"
    }
   ],
   "source": [
    "\n",
    "data = pd.concat([train['label'], train['ppi']], axis=1)\n",
    "f, ax = plt.subplots(figsize=(8, 6))\n",
    "fig = sns.boxplot(x=train['ppi'], y=\"label\", data=data)\n",
    "fig.axis(ymin=0, ymax=1);\n"
   ]
  },
  {
   "cell_type": "code",
   "execution_count": 19,
   "metadata": {},
   "outputs": [
    {
     "name": "stdout",
     "output_type": "stream",
     "text": [
      "Percent of missing data\n"
     ]
    },
    {
     "data": {
      "text/plain": [
       "[('lan', 36.44),\n",
       " ('ver', 31.91),\n",
       " ('make', 12.3),\n",
       " ('city', 1.51),\n",
       " ('osv', 1.27),\n",
       " ('model', 0.41),\n",
       " ('sid', 0.0),\n",
       " ('pkgname', 0.0),\n",
       " ('adunitshowid', 0.0),\n",
       " ('mediashowid', 0.0)]"
      ]
     },
     "execution_count": 19,
     "metadata": {},
     "output_type": "execute_result"
    }
   ],
   "source": [
    "\n",
    "# determine the threshold for missing values\n",
    "def percent_missing(df):\n",
    "    data = pd.DataFrame(df)\n",
    "    df_cols = list(pd.DataFrame(data))\n",
    "    dict_x = {}\n",
    "    for i in range(0, len(df_cols)):\n",
    "        dict_x.update({df_cols[i]: round(data[df_cols[i]].isnull().mean()*100,2)})\n",
    "    \n",
    "    return dict_x\n",
    "\n",
    "missing = percent_missing(all_features)\n",
    "df_miss = sorted(missing.items(), key=lambda x: x[1], reverse=True)\n",
    "print('Percent of missing data')\n",
    "df_miss[0:10]\n"
   ]
  },
  {
   "cell_type": "code",
   "execution_count": 13,
   "metadata": {},
   "outputs": [
    {
     "data": {
      "text/plain": [
       "(1100000, 28)"
      ]
     },
     "execution_count": 13,
     "metadata": {},
     "output_type": "execute_result"
    }
   ],
   "source": [
    "train_features = train.drop(['label'], axis=1)\n",
    "test_features = test\n",
    "all_features = pd.concat([train_features, test_features]).reset_index(drop=True)\n",
    "all_features.shape\n"
   ]
  },
  {
   "cell_type": "code",
   "execution_count": 14,
   "metadata": {},
   "outputs": [
    {
     "name": "stdout",
     "output_type": "stream",
     "text": [
      "['sid', 'pkgname', 'ver', 'adunitshowid', 'mediashowid', 'ip', 'city', 'reqrealip', 'adidmd5', 'imeimd5', 'idfamd5', 'openudidmd5', 'macmd5', 'model', 'make', 'os', 'osv', 'lan']\n"
     ]
    }
   ],
   "source": [
    "object_cols=list(all_features.dtypes[all_features.dtypes==np.object].index) ##返回字段名为object类型的字段\n",
    "print(object_cols)"
   ]
  },
  {
   "cell_type": "code",
   "execution_count": 15,
   "metadata": {},
   "outputs": [],
   "source": [
    "from sklearn import preprocessing\n",
    "\n",
    "def one_hot_col(col):\n",
    "    '''标签编码'''\n",
    "    lbl = preprocessing.LabelEncoder()\n",
    "    lbl.fit(col)\n",
    "    return lbl"
   ]
  },
  {
   "cell_type": "code",
   "execution_count": 16,
   "metadata": {},
   "outputs": [],
   "source": [
    "for col in object_cols:\n",
    "    if col!='sid':\n",
    "        train[col]=one_hot_col(train[col].astype(str)).transform(train[col].astype(str))\n"
   ]
  },
  {
   "cell_type": "code",
   "execution_count": 20,
   "metadata": {},
   "outputs": [
    {
     "data": {
      "text/plain": [
       "<matplotlib.axes._subplots.AxesSubplot at 0x1c2011e46d8>"
      ]
     },
     "execution_count": 20,
     "metadata": {},
     "output_type": "execute_result"
    },
    {
     "data": {
      "image/png": "[encoded data removed]",
      "text/plain": [
       "<Figure size 1296x1296 with 2 Axes>"
      ]
     },
     "metadata": {
      "needs_background": "light"
     },
     "output_type": "display_data"
    }
   ],
   "source": [
    "#相关性\n",
    "\n",
    "corr = train.corr()\n",
    "plt.subplots(figsize=(18,18))\n",
    "sns.heatmap(corr, vmax=0.9, cmap=\"Blues\", square=True)"
   ]
  },
  {
   "cell_type": "code",
   "execution_count": 24,
   "metadata": {},
   "outputs": [],
   "source": [
    "\n",
    "train['begin_time']=train['sid'].apply(lambda x:int(x.split('-')[-1])) ##请求会话时间\n",
    "train['nginxtime-begin_time']=train['nginxtime']-train['begin_time'] ##请求会话时间 与 请求到达服务时间的差\n",
    "test['begin_time']=test['sid'].apply(lambda x:int(x.split('-')[-1]))\n",
    "test['nginxtime-begin_time']=test['nginxtime']-test['begin_time']"
   ]
  },
  {
   "cell_type": "code",
   "execution_count": 25,
   "metadata": {},
   "outputs": [],
   "source": [
    "#增加一些特征\n",
    "train['size'] = (np.sqrt(train['h']**2 + train['w'] ** 2) / 2.54) / 1000\n",
    "train['ratio'] = train['h'] / train['w']\n",
    "train['px'] = train['ppi'] * train['size']\n",
    "train['mj'] = train['h'] * train['w']\n",
    "#model clear"
   ]
  },
  {
   "cell_type": "code",
   "execution_count": 26,
   "metadata": {},
   "outputs": [],
   "source": [
    "for fea in ['model','make','lan']:\n",
    "    train[fea] = train[fea].astype('str')\n",
    "    train[fea] = train[fea].map(lambda x:x.upper())\n",
    "\n",
    "    from urllib.parse import unquote\n",
    "\n",
    "    def url_clean(x):\n",
    "        x = unquote(x,'utf-8').replace('%2B',' ').replace('%20',' ').replace('%2F','/').replace('%3F','?').replace('%25','%').replace('%23','#').replace(\".\",' ').replace('??',' ').\\\n",
    "                               replace('%26',' ').replace(\"%3D\",'=').replace('%22','').replace('_',' ').replace('+',' ').replace('-',' ').replace('__',' ').replace('  ',' ').replace(',',' ')\n",
    "        \n",
    "        if (x[0]=='V') & (x[-1]=='A'):\n",
    "            return \"VIVO {}\".format(x)\n",
    "        elif (x[0]=='P') & (x[-1]=='0'):\n",
    "            return \"OPPO {}\".format(x)\n",
    "        elif (len(x)==5) & (x[0]=='O'):\n",
    "            return \"Smartisan {}\".format(x)\n",
    "        elif ('AL00' in x):\n",
    "            return \"HW {}\".format(x)\n",
    "        else:\n",
    "            return x\n",
    "\n",
    "    train[fea] = train[fea].map(url_clean)\n",
    "#model_equal_make\n",
    "train['big_model'] = train['model'].map(lambda x:x.split(' ')[0])\n",
    "train['model_equal_make'] = (train['big_model']==train['make']).astype(int)"
   ]
  },
  {
   "cell_type": "code",
   "execution_count": 28,
   "metadata": {},
   "outputs": [],
   "source": [
    "cat_col = [i for i in train.select_dtypes(object).columns if i not in ['sid','label']]"
   ]
  },
  {
   "cell_type": "code",
   "execution_count": 31,
   "metadata": {},
   "outputs": [],
   "source": [
    "from sklearn.preprocessing import LabelEncoder\n",
    "for i in cat_col:\n",
    "    lbl = LabelEncoder()\n",
    "    train[i+\"_count\"] = train.groupby([i])[i].transform('count')\n",
    "    train[i+\"_rank\"] = train[i+\"_count\"].rank(method='min')\n",
    "    train[i] = lbl.fit_transform(train[i].astype(str))\n",
    "   \n",
    "    \n",
    "for i in ['h','w','ppi','ratio']:\n",
    "    train['{}_count'.format(i)] = train.groupby(['{}'.format(i)])['sid'].transform('count')\n",
    "    train['{}_rank'.format(i)] = train['{}_count'.format(i)].rank(method='min')"
   ]
  },
  {
   "cell_type": "code",
   "execution_count": 40,
   "metadata": {},
   "outputs": [
    {
     "data": {
      "text/plain": [
       "<matplotlib.axes._subplots.AxesSubplot at 0x1c27b6a68d0>"
      ]
     },
     "execution_count": 40,
     "metadata": {},
     "output_type": "execute_result"
    },
    {
     "data": {
      "image/png": "[encoded data removed]",
      "text/plain": [
       "<Figure size 1800x1800 with 2 Axes>"
      ]
     },
     "metadata": {
      "needs_background": "light"
     },
     "output_type": "display_data"
    }
   ],
   "source": [
    "\n",
    "corr = train.corr()\n",
    "plt.subplots(figsize=(25,25))\n",
    "sns.heatmap(corr, vmax=0.9, cmap=\"Blues\", square=True)"
   ]
  },
  {
   "cell_type": "code",
   "execution_count": null,
   "metadata": {},
   "outputs": [],
   "source": []
  },
  {
   "cell_type": "code",
   "execution_count": 53,
   "metadata": {},
   "outputs": [
    {
     "name": "stdout",
     "output_type": "stream",
     "text": [
      "Percent of missing data\n"
     ]
    },
    {
     "data": {
      "text/plain": [
       "[('sid', 0.0),\n",
       " ('pkgname', 0.0),\n",
       " ('ver', 0.0),\n",
       " ('adunitshowid', 0.0),\n",
       " ('mediashowid', 0.0),\n",
       " ('apptype', 0.0),\n",
       " ('nginxtime', 0.0),\n",
       " ('ip', 0.0),\n",
       " ('city', 0.0),\n",
       " ('province', 0.0)]"
      ]
     },
     "execution_count": 53,
     "metadata": {},
     "output_type": "execute_result"
    }
   ],
   "source": [
    "\n",
    "# determine the threshold for missing values\n",
    "def percent_missing(df):\n",
    "    data = pd.DataFrame(df)\n",
    "    df_cols = list(pd.DataFrame(data))\n",
    "    dict_x = {}\n",
    "    for i in range(0, len(df_cols)):\n",
    "        dict_x.update({df_cols[i]: round(data[df_cols[i]].isnull().mean()*100,2)})\n",
    "    \n",
    "    return dict_x\n",
    "\n",
    "missing = percent_missing(all_features)\n",
    "df_miss = sorted(missing.items(), key=lambda x: x[1], reverse=True)\n",
    "print('Percent of missing data')\n",
    "df_miss[0:10]"
   ]
  },
  {
   "cell_type": "code",
   "execution_count": 40,
   "metadata": {},
   "outputs": [
    {
     "data": {
      "image/png": "[encoded data removed]",
      "text/plain": [
       "<Figure size 576x504 with 1 Axes>"
      ]
     },
     "metadata": {},
     "output_type": "display_data"
    }
   ],
   "source": [
    "\n",
    "# Visualize missing values\n",
    "sns.set_style(\"white\")\n",
    "f, ax = plt.subplots(figsize=(8, 7))\n",
    "sns.set_color_codes(palette='deep')\n",
    "missing = round(train.isnull().mean()*100,2)\n",
    "missing = missing[missing > 0]\n",
    "missing.sort_values(inplace=True)\n",
    "missing.plot.bar(color=\"b\")\n",
    "# Tweak the visual presentation\n",
    "ax.xaxis.grid(False)\n",
    "ax.set(ylabel=\"Percent of missing values\")\n",
    "ax.set(xlabel=\"Features\")\n",
    "ax.set(title=\"Percent missing data by feature\")\n",
    "sns.despine(trim=True, left=True)"
   ]
  },
  {
   "cell_type": "code",
   "execution_count": 45,
   "metadata": {},
   "outputs": [],
   "source": [
    "#lan 语言 ver app版本 make 厂商 osv 操作系统版本 model 机型\n",
    "\n",
    "int_cols = ['label', 'apptype', 'dvctype', 'ntt', 'orientation', 'h', 'w', 'ppi']\n",
    "time_cols = ['nginxtime']\n",
    "train.loc[:, int_cols] = train.loc[:, int_cols].astype('int').astype('category')"
   ]
  },
  {
   "cell_type": "code",
   "execution_count": 49,
   "metadata": {},
   "outputs": [
    {
     "data": {
      "text/plain": [
       "sid               object\n",
       "label           category\n",
       "pkgname           object\n",
       "ver               object\n",
       "adunitshowid      object\n",
       "mediashowid       object\n",
       "apptype         category\n",
       "nginxtime        float64\n",
       "ip                object\n",
       "city              object\n",
       "province         float64\n",
       "reqrealip         object\n",
       "adidmd5           object\n",
       "imeimd5           object\n",
       "idfamd5           object\n",
       "openudidmd5       object\n",
       "macmd5            object\n",
       "dvctype         category\n",
       "model             object\n",
       "make              object\n",
       "ntt             category\n",
       "carrier          float64\n",
       "os                object\n",
       "osv               object\n",
       "orientation     category\n",
       "lan               object\n",
       "h               category\n",
       "w               category\n",
       "ppi             category\n",
       "dtype: object"
      ]
     },
     "execution_count": 49,
     "metadata": {},
     "output_type": "execute_result"
    }
   ],
   "source": [
    "train.dtypes"
   ]
  },
  {
   "cell_type": "code",
   "execution_count": 52,
   "metadata": {},
   "outputs": [],
   "source": [
    "all_features['lan'] = all_features['lan'].apply(str)\n",
    "all_features['ver'] = all_features['ver'].astype(str)\n",
    "all_features['make'] = all_features['make'].astype(str)\n",
    "all_features['city'] = all_features['city'].astype(str)\n",
    "all_features['osv'] = all_features['osv'].astype(str)\n",
    "all_features['model'] = all_features['model'].astype(str)"
   ]
  },
  {
   "cell_type": "code",
   "execution_count": 57,
   "metadata": {},
   "outputs": [
    {
     "name": "stdout",
     "output_type": "stream",
     "text": [
      "Percent of missing data\n"
     ]
    },
    {
     "data": {
      "text/plain": [
       "[('sid', 0.0),\n",
       " ('pkgname', 0.0),\n",
       " ('ver', 0.0),\n",
       " ('adunitshowid', 0.0),\n",
       " ('mediashowid', 0.0),\n",
       " ('apptype', 0.0),\n",
       " ('nginxtime', 0.0),\n",
       " ('ip', 0.0),\n",
       " ('city', 0.0),\n",
       " ('province', 0.0)]"
      ]
     },
     "execution_count": 57,
     "metadata": {},
     "output_type": "execute_result"
    }
   ],
   "source": [
    "# determine the threshold for missing values\n",
    "def percent_missing(df):\n",
    "    data = pd.DataFrame(df)\n",
    "    df_cols = list(pd.DataFrame(data))\n",
    "    dict_x = {}\n",
    "    for i in range(0, len(df_cols)):\n",
    "        dict_x.update({df_cols[i]: round(data[df_cols[i]].isnull().mean()*100,2)})\n",
    "    \n",
    "    return dict_x\n",
    "\n",
    "missing = percent_missing(all_features)\n",
    "df_miss = sorted(missing.items(), key=lambda x: x[1], reverse=True)\n",
    "print('Percent of missing data')\n",
    "df_miss[0:10]"
   ]
  },
  {
   "cell_type": "code",
   "execution_count": 64,
   "metadata": {},
   "outputs": [
    {
     "data": {
      "text/plain": [
       "{'nan',\n",
       " '七台河市',\n",
       " '三亚市',\n",
       " '三明市',\n",
       " '三门峡市',\n",
       " '上海市',\n",
       " '上饶市',\n",
       " '东莞市',\n",
       " '东营市',\n",
       " '中卫市',\n",
       " '中山市',\n",
       " '临夏回族自治州',\n",
       " '临汾市',\n",
       " '临沂市',\n",
       " '临沧市',\n",
       " '丹东市',\n",
       " '丽水市',\n",
       " '丽江市',\n",
       " '乌兰察布市',\n",
       " '乌海市',\n",
       " '乌鲁木齐市',\n",
       " '乐山市',\n",
       " '九江市',\n",
       " '云浮市',\n",
       " '亳州市',\n",
       " '伊春市',\n",
       " '伊犁哈萨克自治州',\n",
       " '佛山市',\n",
       " '佳木斯市',\n",
       " '保定市',\n",
       " '保山市',\n",
       " '信阳市',\n",
       " '儋州市',\n",
       " '克孜勒苏柯尔克孜自治州',\n",
       " '克拉玛依市',\n",
       " '六安市',\n",
       " '六盘水市',\n",
       " '兰州市',\n",
       " '兴安盟',\n",
       " '内江市',\n",
       " '凉山彝族自治州',\n",
       " '包头市',\n",
       " '北京市',\n",
       " '北海市',\n",
       " '十堰市',\n",
       " '南京市',\n",
       " '南充市',\n",
       " '南宁市',\n",
       " '南平市',\n",
       " '南昌市',\n",
       " '南通市',\n",
       " '南阳市',\n",
       " '博尔塔拉蒙古自治州',\n",
       " '厦门市',\n",
       " '双鸭山市',\n",
       " '台州市',\n",
       " '台湾',\n",
       " '合肥市',\n",
       " '吉安市',\n",
       " '吉林市',\n",
       " '吕梁市',\n",
       " '吴忠市',\n",
       " '周口市',\n",
       " '呼伦贝尔市',\n",
       " '呼和浩特市',\n",
       " '和田地区',\n",
       " '咸宁市',\n",
       " '咸阳市',\n",
       " '哈尔滨市',\n",
       " '唐山市',\n",
       " '商丘市',\n",
       " '商洛市',\n",
       " '喀什地区',\n",
       " '嘉兴市',\n",
       " '嘉峪关市',\n",
       " '四平市',\n",
       " '固原市',\n",
       " '塔城地区',\n",
       " '大兴安岭地区',\n",
       " '大同市',\n",
       " '大庆市',\n",
       " '大理白族自治州',\n",
       " '大连市',\n",
       " '天水市',\n",
       " '天津市',\n",
       " '太原市',\n",
       " '威海市',\n",
       " '娄底市',\n",
       " '孝感市',\n",
       " '宁德市',\n",
       " '宁波市',\n",
       " '安庆市',\n",
       " '安康市',\n",
       " '安阳市',\n",
       " '安顺市',\n",
       " '定西市',\n",
       " '宜宾市',\n",
       " '宜昌市',\n",
       " '宜春市',\n",
       " '宝鸡市',\n",
       " '宣城市',\n",
       " '宿州市',\n",
       " '宿迁市',\n",
       " '岳阳市',\n",
       " '崇左市',\n",
       " '巴中市',\n",
       " '巴彦淖尔市',\n",
       " '巴音郭楞蒙古自治州',\n",
       " '常州市',\n",
       " '常德市',\n",
       " '平凉市',\n",
       " '平顶山市',\n",
       " '广元市',\n",
       " '广安市',\n",
       " '广州市',\n",
       " '庆阳市',\n",
       " '廊坊市',\n",
       " '延安市',\n",
       " '延边朝鲜族自治州',\n",
       " '开封市',\n",
       " '张家口市',\n",
       " '张家界市',\n",
       " '张掖市',\n",
       " '徐州市',\n",
       " '德宏傣族景颇族自治州',\n",
       " '德州市',\n",
       " '德阳市',\n",
       " '忻州市',\n",
       " '怀化市',\n",
       " '怒江傈僳族自治州',\n",
       " '恩施土家族苗族自治州',\n",
       " '惠州市',\n",
       " '成都市',\n",
       " '扬州市',\n",
       " '承德市',\n",
       " '抚州市',\n",
       " '抚顺市',\n",
       " '拉萨市',\n",
       " '揭阳市',\n",
       " '攀枝花市',\n",
       " '文山壮族苗族自治州',\n",
       " '新乡市',\n",
       " '新余市',\n",
       " '无锡市',\n",
       " '日照市',\n",
       " '昆明市',\n",
       " '昌吉回族自治州',\n",
       " '昭通市',\n",
       " '晋中市',\n",
       " '晋城市',\n",
       " '普洱市',\n",
       " '景德镇市',\n",
       " '曲靖市',\n",
       " '朔州市',\n",
       " '朝阳市',\n",
       " '本溪市',\n",
       " '来宾市',\n",
       " '杭州市',\n",
       " '松原市',\n",
       " '果洛藏族自治州',\n",
       " '枣庄市',\n",
       " '柳州市',\n",
       " '株洲市',\n",
       " '桂林市',\n",
       " '梅州市',\n",
       " '梧州市',\n",
       " '楚雄彝族自治州',\n",
       " '榆林市',\n",
       " '武威市',\n",
       " '武汉市',\n",
       " '永州市',\n",
       " '汉中市',\n",
       " '汕头市',\n",
       " '汕尾市',\n",
       " '江门市',\n",
       " '池州市',\n",
       " '沈阳市',\n",
       " '沧州市',\n",
       " '河池市',\n",
       " '河源市',\n",
       " '泉州市',\n",
       " '泰安市',\n",
       " '泰州市',\n",
       " '泸州市',\n",
       " '洛阳市',\n",
       " '济南市',\n",
       " '济宁市',\n",
       " '海北藏族自治州',\n",
       " '海南藏族自治州',\n",
       " '海口市',\n",
       " '海西蒙古族藏族自治州',\n",
       " '淄博市',\n",
       " '淮北市',\n",
       " '淮南市',\n",
       " '淮安市',\n",
       " '深圳市',\n",
       " '清远市',\n",
       " '温州市',\n",
       " '渭南市',\n",
       " '湖州市',\n",
       " '湘潭市',\n",
       " '湘西土家族苗族自治州',\n",
       " '湛江市',\n",
       " '滁州市',\n",
       " '滨州市',\n",
       " '漯河市',\n",
       " '漳州市',\n",
       " '潍坊市',\n",
       " '潮州市',\n",
       " '澳门',\n",
       " '濮阳市',\n",
       " '烟台市',\n",
       " '焦作市',\n",
       " '牡丹江市',\n",
       " '玉林市',\n",
       " '玉树藏族自治州',\n",
       " '玉溪市',\n",
       " '珠海市',\n",
       " '甘南藏族自治州',\n",
       " '甘孜藏族自治州',\n",
       " '白城市',\n",
       " '白山市',\n",
       " '白银市',\n",
       " '百色市',\n",
       " '益阳市',\n",
       " '盐城市',\n",
       " '盘锦市',\n",
       " '眉山市',\n",
       " '石嘴山市',\n",
       " '石家庄市',\n",
       " '福州市',\n",
       " '秦皇岛市',\n",
       " '红河哈尼族彝族自治州',\n",
       " '绍兴市',\n",
       " '绥化市',\n",
       " '绵阳市',\n",
       " '聊城市',\n",
       " '肇庆市',\n",
       " '自治区直辖县级行政区划',\n",
       " '自贡市',\n",
       " '舟山市',\n",
       " '芜湖市',\n",
       " '苏州市',\n",
       " '茂名市',\n",
       " '荆州市',\n",
       " '荆门市',\n",
       " '莆田市',\n",
       " '莱芜市',\n",
       " '菏泽市',\n",
       " '萍乡市',\n",
       " '营口市',\n",
       " '葫芦岛市',\n",
       " '蚌埠市',\n",
       " '衡水市',\n",
       " '衡阳市',\n",
       " '衢州市',\n",
       " '襄阳市',\n",
       " '西双版纳傣族自治州',\n",
       " '西宁市',\n",
       " '西安市',\n",
       " '许昌市',\n",
       " '贵港市',\n",
       " '贵阳市',\n",
       " '贺州市',\n",
       " '资阳市',\n",
       " '赣州市',\n",
       " '赤峰市',\n",
       " '辽源市',\n",
       " '辽阳市',\n",
       " '达州市',\n",
       " '运城市',\n",
       " '连云港市',\n",
       " '迪庆藏族自治州',\n",
       " '通化市',\n",
       " '通辽市',\n",
       " '遂宁市',\n",
       " '遵义市',\n",
       " '邢台市',\n",
       " '邯郸市',\n",
       " '邵阳市',\n",
       " '郑州市',\n",
       " '郴州市',\n",
       " '鄂尔多斯市',\n",
       " '鄂州市',\n",
       " '酒泉市',\n",
       " '重庆市',\n",
       " '金华市',\n",
       " '金昌市',\n",
       " '钦州市',\n",
       " '铁岭市',\n",
       " '铜川市',\n",
       " '铜陵市',\n",
       " '银川市',\n",
       " '锡林郭勒盟',\n",
       " '锦州市',\n",
       " '镇江市',\n",
       " '长春市',\n",
       " '长沙市',\n",
       " '长治市',\n",
       " '阜新市',\n",
       " '阜阳市',\n",
       " '防城港市',\n",
       " '阳江市',\n",
       " '阳泉市',\n",
       " '阿克苏地区',\n",
       " '阿勒泰地区',\n",
       " '阿坝藏族羌族自治州',\n",
       " '阿拉善盟',\n",
       " '阿里地区',\n",
       " '陇南市',\n",
       " '随州市',\n",
       " '雅安市',\n",
       " '青岛市',\n",
       " '鞍山市',\n",
       " '韶关市',\n",
       " '香港',\n",
       " '马鞍山市',\n",
       " '驻马店市',\n",
       " '鸡西市',\n",
       " '鹤壁市',\n",
       " '鹤岗市',\n",
       " '鹰潭市',\n",
       " '黄冈市',\n",
       " '黄南藏族自治州',\n",
       " '黄山市',\n",
       " '黄石市',\n",
       " '黑河市',\n",
       " '黔东南苗族侗族自治州',\n",
       " '黔南布依族苗族自治州',\n",
       " '黔西南布依族苗族自治州',\n",
       " '齐齐哈尔市',\n",
       " '龙岩市'}"
      ]
     },
     "execution_count": 64,
     "metadata": {},
     "output_type": "execute_result"
    }
   ],
   "source": [
    "set(all_features['city'])"
   ]
  },
  {
   "cell_type": "code",
   "execution_count": 79,
   "metadata": {},
   "outputs": [
    {
     "data": {
      "text/plain": [
       "{-1.0, 2.0, 3.0, 27.0, 31.0, 32.0, 33.0, 34.0}"
      ]
     },
     "execution_count": 79,
     "metadata": {},
     "output_type": "execute_result"
    }
   ],
   "source": [
    "set(all_features['province'])"
   ]
  },
  {
   "cell_type": "code",
   "execution_count": 70,
   "metadata": {},
   "outputs": [],
   "source": [
    "from datetime import datetime,timedelta\n",
    "import time\n",
    "all_features['time'] = pd.to_datetime(all_features['nginxtime']*1e+6) + timedelta(hours=8)\n",
    "all_features['day'] = all_features['time'].dt.dayofyear\n",
    "all_features['hour'] = all_features['time'].dt.hour"
   ]
  },
  {
   "cell_type": "code",
   "execution_count": 75,
   "metadata": {},
   "outputs": [],
   "source": [
    "all_features['size'] = (np.sqrt(all_features['h']**2 + all_features['w'] ** 2) / 2.54) / 1000\n",
    "all_features['ratio'] = all_features['h'] / all_features['w']\n",
    "all_features['px'] = all_features['ppi'] * all_features['size']\n",
    "all_features['mj'] = all_features['h'] * all_features['w']"
   ]
  },
  {
   "cell_type": "code",
   "execution_count": 83,
   "metadata": {},
   "outputs": [
    {
     "data": {
      "text/plain": [
       "Index(['sid', 'pkgname', 'ver', 'adunitshowid', 'mediashowid', 'apptype',\n",
       "       'nginxtime', 'ip', 'city', 'reqrealip', 'adidmd5', 'imeimd5', 'idfamd5',\n",
       "       'openudidmd5', 'macmd5', 'dvctype', 'model', 'make', 'ntt', 'carrier',\n",
       "       'os', 'osv', 'orientation', 'lan', 'h', 'w', 'ppi', 'time', 'day',\n",
       "       'hour', 'size', 'ratio', 'px', 'mj'],\n",
       "      dtype='object')"
      ]
     },
     "execution_count": 83,
     "metadata": {},
     "output_type": "execute_result"
    }
   ],
   "source": [
    "all_features.columns"
   ]
  },
  {
   "cell_type": "code",
   "execution_count": 93,
   "metadata": {},
   "outputs": [
    {
     "data": {
      "text/plain": [
       "{0.0, 1.0, 2.0, 90.0}"
      ]
     },
     "execution_count": 93,
     "metadata": {},
     "output_type": "execute_result"
    }
   ],
   "source": [
    "set(all_features['orientation'] )"
   ]
  },
  {
   "cell_type": "code",
   "execution_count": 80,
   "metadata": {},
   "outputs": [],
   "source": [
    "all_features.drop(['province'],axis=1,inplace=True)"
   ]
  },
  {
   "cell_type": "code",
   "execution_count": null,
   "metadata": {},
   "outputs": [],
   "source": [
    "from sklearn.preprocessing import LabelEncoder\n",
    "\n",
    "\n",
    "num_col = ['h','w','size','mj','ratio','px']\n",
    "cat_col = [i for i in all_features.select_dtypes(object).columns if i not in ['sid','label']]\n",
    "both_col = []\n",
    "\n",
    "for i in tqdm(cat_col):\n",
    "    lbl = LabelEncoder()\n",
    "    all_data[i+\"_count\"] = all_data.groupby([i])[i].transform('count')\n",
    "    all_data[i+\"_rank\"] = all_data[i+\"_count\"].rank(method='min')\n",
    "    all_data[i] = lbl.fit_transform(all_data[i].astype(str))\n",
    "    both_col.extend([i+\"_count\",i+\"_rank\"])\n",
    "\n",
    "for i in tqdm(['h','w','ppi','ratio']):\n",
    "    all_data['{}_count'.format(i)] = all_data.groupby(['{}'.format(i)])['sid'].transform('count')\n",
    "    all_data['{}_rank'.format(i)] = all_data['{}_count'.format(i)].rank(method='min')\n",
    "\n",
    "feature_name = [i for i in all_data.columns if i not in ['sid','label','time']]"
   ]
  }
 ],
 "metadata": {
  "kernelspec": {
   "display_name": "Python 3",
   "language": "python",
   "name": "python3"
  },
  "language_info": {
   "codemirror_mode": {
    "name": "ipython",
    "version": 3
   },
   "file_extension": ".py",
   "mimetype": "text/x-python",
   "name": "python",
   "nbconvert_exporter": "python",
   "pygments_lexer": "ipython3",
   "version": "3.6.8"
  }
 },
 "nbformat": 4,
 "nbformat_minor": 2
}
